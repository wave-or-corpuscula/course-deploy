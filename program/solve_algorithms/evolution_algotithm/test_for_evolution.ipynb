{
 "cells": [
  {
   "cell_type": "code",
   "execution_count": 1,
   "metadata": {},
   "outputs": [],
   "source": [
    "material_tables = [\n",
    "    [\n",
    "        [2, 4],\n",
    "        [1, 1],\n",
    "        [2, 1]\n",
    "    ],\n",
    "    [\n",
    "        [2, 4, 5],\n",
    "        [1, 8, 6],\n",
    "        [7, 4, 5],\n",
    "        [4, 6 ,7]\n",
    "    ],\n",
    "    [\n",
    "        [0.8, 0.5, 1, 2, 1.1],\n",
    "        [0.2, 0.1, 0.1, 0.1, 0.2],\n",
    "        [0.3, 0.4, 0.6, 1.3, 0.05],\n",
    "        [0.2, 0.3, 0.3, 0.7, 0.5],\n",
    "        [0.7, 0.1, 0.9, 1.5, 0]\n",
    "    ],\n",
    "    [\n",
    "        [0.1, 0.4],\n",
    "        [0.01, 0.04]\n",
    "    ],\n",
    "    [\n",
    "        [3, 2],\n",
    "        [2, 5]\n",
    "    ]\n",
    "]\n",
    "\n",
    "reserves = [\n",
    "    [560, 170, 300],\n",
    "    [120, 280, 240, 360],\n",
    "    [1411, 149, 815.5, 466, 1080],\n",
    "    [160, 24],\n",
    "    [18, 20]\n",
    "]\n",
    "\n",
    "profits = [\n",
    "    [4, 5],\n",
    "    [10, 14, 12],\n",
    "    [1, 0.7, 1, 2, 0.6],\n",
    "    [1, 3],\n",
    "    [-2, -3]\n",
    "]"
   ]
  },
  {
   "cell_type": "code",
   "execution_count": 2,
   "metadata": {},
   "outputs": [],
   "source": [
    "import numpy as np"
   ]
  },
  {
   "cell_type": "code",
   "execution_count": 3,
   "metadata": {},
   "outputs": [],
   "source": [
    "from evolution_algorithm import EvolutionAlgorithm"
   ]
  },
  {
   "cell_type": "code",
   "execution_count": 15,
   "metadata": {},
   "outputs": [],
   "source": [
    "# Параметры генетического алгоритма\n",
    "population_size = 1000\n",
    "num_generations = 30\n",
    "mutation_rate = 0.7\n",
    "tournament_size = 100\n",
    "\n",
    "task_index = 2\n",
    "\n",
    "# Границы переменных (x1 >= 0, x2 >= 0)\n",
    "variable_bounds = [0, 600]"
   ]
  },
  {
   "cell_type": "code",
   "execution_count": 22,
   "metadata": {},
   "outputs": [
    {
     "name": "stdout",
     "output_type": "stream",
     "text": [
      "Initialized!\n",
      "Решение (x1, x2, x3, x4, x5): [443.22145779 114.43230437   0.         489.88821335   0.        ]\n",
      "Значение целевой функции (доход): 1503.100497536011\n"
     ]
    }
   ],
   "source": [
    "# variable_bounds = np.array([x_bounds, y_bounds, z_bounds])\n",
    "method = EvolutionAlgorithm(\n",
    "    profits=profits[task_index],\n",
    "    constraints=material_tables[task_index],\n",
    "    reserves=reserves[task_index],\n",
    "    num_generations=num_generations,\n",
    "    population_size=population_size,\n",
    "    bounds=variable_bounds,\n",
    "    mutation_rate=mutation_rate,\n",
    "    tournament_size=tournament_size\n",
    ")\n",
    "\n",
    "print(\"Решение (x1, x2, x3, x4, x5):\", method.solution['parameters'])\n",
    "print(\"Значение целевой функции (доход):\", method.solution['best_value'])"
   ]
  }
 ],
 "metadata": {
  "kernelspec": {
   "display_name": "Python 3",
   "language": "python",
   "name": "python3"
  },
  "language_info": {
   "codemirror_mode": {
    "name": "ipython",
    "version": 3
   },
   "file_extension": ".py",
   "mimetype": "text/x-python",
   "name": "python",
   "nbconvert_exporter": "python",
   "pygments_lexer": "ipython3",
   "version": "3.11.6"
  }
 },
 "nbformat": 4,
 "nbformat_minor": 2
}
