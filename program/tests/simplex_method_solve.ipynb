{
 "cells": [
  {
   "cell_type": "code",
   "execution_count": 1,
   "metadata": {},
   "outputs": [],
   "source": [
    "import numpy as np\n",
    "import scipy as sp\n",
    "from scipy.optimize import linprog\n",
    "from cvxpy import *"
   ]
  },
  {
   "cell_type": "code",
   "execution_count": 13,
   "metadata": {},
   "outputs": [],
   "source": [
    "def print_callback(xk, **kwargs):\n",
    "    print(f\"Current solution {xk.keys}\")"
   ]
  },
  {
   "cell_type": "code",
   "execution_count": 20,
   "metadata": {},
   "outputs": [
    {
     "name": "stdout",
     "output_type": "stream",
     "text": [
      "===============================================================================\n",
      "                                     CVXPY                                     \n",
      "                                     v1.4.1                                    \n",
      "===============================================================================\n",
      "(CVXPY) Nov 29 02:33:54 AM: Your problem has 2 variables, 2 constraints, and 0 parameters.\n",
      "(CVXPY) Nov 29 02:33:54 AM: It is compliant with the following grammars: DCP, DQCP\n",
      "(CVXPY) Nov 29 02:33:54 AM: (If you need to solve this problem multiple times, but with different data, consider using parameters.)\n",
      "(CVXPY) Nov 29 02:33:54 AM: CVXPY will first compile your problem; then, it will invoke a numerical solver to obtain a solution.\n",
      "(CVXPY) Nov 29 02:33:54 AM: Your problem is compiled with the CPP canonicalization backend.\n",
      "-------------------------------------------------------------------------------\n",
      "                                  Compilation                                  \n",
      "-------------------------------------------------------------------------------\n",
      "(CVXPY) Nov 29 02:33:54 AM: Compiling problem (target solver=ECOS).\n",
      "(CVXPY) Nov 29 02:33:54 AM: Reduction chain: FlipObjective -> Dcp2Cone -> CvxAttr2Constr -> ConeMatrixStuffing -> ECOS\n",
      "(CVXPY) Nov 29 02:33:54 AM: Applying reduction FlipObjective\n",
      "(CVXPY) Nov 29 02:33:54 AM: Applying reduction Dcp2Cone\n",
      "(CVXPY) Nov 29 02:33:54 AM: Applying reduction CvxAttr2Constr\n",
      "(CVXPY) Nov 29 02:33:54 AM: Applying reduction ConeMatrixStuffing\n",
      "(CVXPY) Nov 29 02:33:54 AM: Applying reduction ECOS\n",
      "(CVXPY) Nov 29 02:33:54 AM: Finished problem compilation (took 4.383e-02 seconds).\n",
      "-------------------------------------------------------------------------------\n",
      "                                Numerical solver                               \n",
      "-------------------------------------------------------------------------------\n",
      "(CVXPY) Nov 29 02:33:54 AM: Invoking solver ECOS  to obtain a solution.\n",
      "-------------------------------------------------------------------------------\n",
      "                                    Summary                                    \n",
      "-------------------------------------------------------------------------------\n",
      "(CVXPY) Nov 29 02:33:54 AM: Problem status: optimal\n",
      "(CVXPY) Nov 29 02:33:54 AM: Optimal value: 1.600e+03\n",
      "(CVXPY) Nov 29 02:33:54 AM: Compilation took 4.383e-02 seconds\n",
      "(CVXPY) Nov 29 02:33:54 AM: Solver (including time spent in interface) took 6.000e-03 seconds\n",
      "[1.60000000e+03 3.62789221e-07] 2\n",
      "1599.9999985666393\n"
     ]
    },
    {
     "name": "stderr",
     "output_type": "stream",
     "text": [
      "c:\\Users\\ninzy\\AppData\\Local\\Programs\\Python\\Python311\\Lib\\site-packages\\cvxpy\\expressions\\expression.py:621: UserWarning: \n",
      "This use of ``*`` has resulted in matrix multiplication.\n",
      "Using ``*`` for matrix multiplication has been deprecated since CVXPY 1.1.\n",
      "    Use ``*`` for matrix-scalar and vector-scalar multiplication.\n",
      "    Use ``@`` for matrix-matrix and matrix-vector multiplication.\n",
      "    Use ``multiply`` for elementwise multiplication.\n",
      "This code path has been hit 28 times so far.\n",
      "\n",
      "  warnings.warn(msg, UserWarning)\n",
      "c:\\Users\\ninzy\\AppData\\Local\\Programs\\Python\\Python311\\Lib\\site-packages\\cvxpy\\expressions\\expression.py:621: UserWarning: \n",
      "This use of ``*`` has resulted in matrix multiplication.\n",
      "Using ``*`` for matrix multiplication has been deprecated since CVXPY 1.1.\n",
      "    Use ``*`` for matrix-scalar and vector-scalar multiplication.\n",
      "    Use ``@`` for matrix-matrix and matrix-vector multiplication.\n",
      "    Use ``multiply`` for elementwise multiplication.\n",
      "This code path has been hit 29 times so far.\n",
      "\n",
      "  warnings.warn(msg, UserWarning)\n",
      "c:\\Users\\ninzy\\AppData\\Local\\Programs\\Python\\Python311\\Lib\\site-packages\\cvxpy\\reductions\\solvers\\solving_chain.py:336: FutureWarning: \n",
      "    Your problem is being solved with the ECOS solver by default. Starting in \n",
      "    CVXPY 1.5.0, Clarabel will be used as the default solver instead. To continue \n",
      "    using ECOS, specify the ECOS solver explicitly using the ``solver=cp.ECOS`` \n",
      "    argument to the ``problem.solve`` method.\n",
      "    \n",
      "  warnings.warn(ECOS_DEPRECATION_MSG, FutureWarning)\n"
     ]
    }
   ],
   "source": [
    "x1 = (0, None)\n",
    "x2 = (0, None)\n",
    "\n",
    "c = np.array([1, 3])\n",
    "A_ub = np.array([[0.1, 0.4], [0.01, 0.04]])\n",
    "b_ub = np.array([160, 24])\n",
    "\n",
    "x = Variable(A_ub.shape[1])\n",
    "constraints = []\n",
    "constraints.append(A_ub * x <= b_ub)\n",
    "constraints.append(x >= 0)\n",
    "objective = Maximize(c * x)\n",
    "problem = Problem(objective, constraints)\n",
    "problem.solve(verbose=True)\n",
    "print(x.value, 2)\n",
    "print(problem.value)\n",
    "\n",
    "# res = linprog(c, A_ub=A, b_ub=b, bounds=(x1, x2), method=\"simplex\", options={\"disp\": True}, callback=print_callback)\n",
    "# print(res)"
   ]
  },
  {
   "cell_type": "code",
   "execution_count": 6,
   "metadata": {},
   "outputs": [
    {
     "data": {
      "text/plain": [
       "2"
      ]
     },
     "execution_count": 6,
     "metadata": {},
     "output_type": "execute_result"
    }
   ],
   "source": [
    "A.shape[1]"
   ]
  }
 ],
 "metadata": {
  "kernelspec": {
   "display_name": "Python 3",
   "language": "python",
   "name": "python3"
  },
  "language_info": {
   "codemirror_mode": {
    "name": "ipython",
    "version": 3
   },
   "file_extension": ".py",
   "mimetype": "text/x-python",
   "name": "python",
   "nbconvert_exporter": "python",
   "pygments_lexer": "ipython3",
   "version": "3.11.6"
  }
 },
 "nbformat": 4,
 "nbformat_minor": 2
}
